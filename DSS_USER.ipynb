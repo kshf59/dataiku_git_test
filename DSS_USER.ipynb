{
 "cells": [
  {
   "cell_type": "code",
   "execution_count": 1,
   "id": "cf486039-69f2-4190-b096-d19073c3beeb",
   "metadata": {},
   "outputs": [],
   "source": [
    "import dataikuapi\n",
    "from datetime import datetime"
   ]
  },
  {
   "cell_type": "code",
   "execution_count": null,
   "id": "97e12607-452a-4e52-8f28-7df2529cff63",
   "metadata": {},
   "outputs": [],
   "source": [
    "dataikuURL = 'ip_port'\n",
    "dataikuKey = 'keys'\n",
    "userName = 'user'"
   ]
  },
  {
   "cell_type": "markdown",
   "id": "c5663d14-20a1-4014-a60a-16bc27246766",
   "metadata": {},
   "source": [
    "#### 클라이언트 호출"
   ]
  },
  {
   "cell_type": "code",
   "execution_count": 2,
   "id": "b1645e2f-a5af-45c7-9aec-6395d3cb05eb",
   "metadata": {},
   "outputs": [],
   "source": [
    "client = dataikuapi.DSSClient(dataikuURL, dataikuKey)"
   ]
  },
  {
   "cell_type": "markdown",
   "id": "1845ad4b-a408-4325-85b7-b113d3ebc103",
   "metadata": {},
   "source": [
    "#### User 호출"
   ]
  },
  {
   "cell_type": "code",
   "execution_count": 3,
   "id": "0b0a47da-911f-4590-ba3b-ca46fe27aa70",
   "metadata": {},
   "outputs": [],
   "source": [
    "user = client.get_user(userName)"
   ]
  },
  {
   "cell_type": "markdown",
   "id": "64eeeddd-41ba-437c-b575-d41f6af32ab4",
   "metadata": {},
   "source": [
    "#### User 활동 내역 "
   ]
  },
  {
   "cell_type": "code",
   "execution_count": 4,
   "id": "542e6724-8e86-4f52-a5f8-ca765c028756",
   "metadata": {},
   "outputs": [],
   "source": [
    "active_user = user.get_activity()"
   ]
  },
  {
   "cell_type": "markdown",
   "id": "ccc1f909-f1dd-4e5a-802e-f998e7c36fb3",
   "metadata": {},
   "source": [
    "#### User 최초 로그인 시간"
   ]
  },
  {
   "cell_type": "code",
   "execution_count": 5,
   "id": "ba81af89-386f-49a5-9027-06bce2f7d7dc",
   "metadata": {},
   "outputs": [
    {
     "name": "stdout",
     "output_type": "stream",
     "text": [
      "최초 로그인 일시 2024년 3월 6일 16시 51분 38초\n"
     ]
    }
   ],
   "source": [
    "print('최초 로그인 일시 {}년 {}월 {}일 {}시 {}분 {}초'.format(active_user.last_successful_login.year, \n",
    "                                       active_user.last_successful_login.month,\n",
    "                                      active_user.last_successful_login.day,\n",
    "                                      active_user.last_successful_login.hour,\n",
    "                                      active_user.last_successful_login.minute,\n",
    "                                      active_user.last_successful_login.second))"
   ]
  },
  {
   "cell_type": "markdown",
   "id": "416825f0-75d7-4c7c-9eac-01b557a36d81",
   "metadata": {},
   "source": [
    "#### User의 마지막 접속 시간"
   ]
  },
  {
   "cell_type": "code",
   "execution_count": 6,
   "id": "3c9a2dc9-3ea6-4e67-86f4-8a54abb8f530",
   "metadata": {},
   "outputs": [
    {
     "name": "stdout",
     "output_type": "stream",
     "text": [
      "마지막 세션 활동 일시 2024년 3월 6일 16시 51분 39초\n"
     ]
    }
   ],
   "source": [
    "print('마지막 세션 활동 일시 {}년 {}월 {}일 {}시 {}분 {}초'.format(active_user.last_session_activity.year, \n",
    "                                       active_user.last_session_activity.month,\n",
    "                                      active_user.last_session_activity.day,\n",
    "                                      active_user.last_session_activity.hour,\n",
    "                                      active_user.last_session_activity.minute,\n",
    "                                      active_user.last_session_activity.second))"
   ]
  },
  {
   "cell_type": "markdown",
   "id": "ed726d30-92c6-4bf2-8285-1e7e13c1dcb2",
   "metadata": {},
   "source": [
    "#### User의 로그인 이후 비활동 시간"
   ]
  },
  {
   "cell_type": "code",
   "execution_count": 7,
   "id": "ebab392e-7a35-4bea-9a2b-33f1b53e6dfb",
   "metadata": {},
   "outputs": [],
   "source": [
    "now = datetime.now()"
   ]
  },
  {
   "cell_type": "code",
   "execution_count": 22,
   "id": "bee2fd9b-914a-45b8-bec1-07515777e744",
   "metadata": {},
   "outputs": [
    {
     "name": "stdout",
     "output_type": "stream",
     "text": [
      "유저의 마지막 세션이후 비활동 기간 : 15:11:17.474964 \n"
     ]
    }
   ],
   "source": [
    "nonactivitiy_time = now.astimezone() - active_user.last_session_activity.astimezone()\n",
    "print('유저의 마지막 세션이후 비활동 시간 : {} '.format(nonactivitiy_time))"
   ]
  },
  {
   "cell_type": "code",
   "execution_count": null,
   "id": "983d900a-4259-4a00-b491-96827040d6d3",
   "metadata": {},
   "outputs": [],
   "source": []
  },
  {
   "cell_type": "code",
   "execution_count": null,
   "id": "26ac7a68-be33-4fd9-85eb-1089c18cf2e7",
   "metadata": {},
   "outputs": [],
   "source": []
  },
  {
   "cell_type": "code",
   "execution_count": null,
   "id": "028d6a7b-6a4c-4d47-8fe7-9c77def3d451",
   "metadata": {},
   "outputs": [],
   "source": []
  },
  {
   "cell_type": "code",
   "execution_count": null,
   "id": "3e0b2bfc-9e85-447b-9a6b-c59dd97c423d",
   "metadata": {},
   "outputs": [],
   "source": []
  }
 ],
 "metadata": {
  "kernelspec": {
   "display_name": "penta",
   "language": "python",
   "name": "penta"
  },
  "language_info": {
   "codemirror_mode": {
    "name": "ipython",
    "version": 3
   },
   "file_extension": ".py",
   "mimetype": "text/x-python",
   "name": "python",
   "nbconvert_exporter": "python",
   "pygments_lexer": "ipython3",
   "version": "3.7.13"
  }
 },
 "nbformat": 4,
 "nbformat_minor": 5
}
