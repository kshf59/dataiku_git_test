{
 "cells": [
  {
   "cell_type": "markdown",
   "id": "9323aa8d-11dc-4772-b0a0-8d9a15e356d8",
   "metadata": {},
   "source": [
    "## Documents Export"
   ]
  },
  {
   "cell_type": "code",
   "execution_count": 1,
   "id": "cf3b7bca-68f8-4958-9617-848dd163d137",
   "metadata": {},
   "outputs": [],
   "source": [
    "import dataikuapi\n",
    "import random\n",
    "import matplotlib.pyplot as plt\n",
    "from dataikuapi.dss import flow as flw"
   ]
  },
  {
   "cell_type": "code",
   "execution_count": null,
   "id": "59fc5bbb-ea85-42ff-8e0d-1a4974b91dd4",
   "metadata": {},
   "outputs": [],
   "source": [
    "dataikuURL = 'ip_port'\n",
    "dataikuKey = 'keys'\n",
    "savePath= 'path'"
   ]
  },
  {
   "cell_type": "code",
   "execution_count": 2,
   "id": "07656fa7-99f9-4333-81f8-7cb32ec99d1f",
   "metadata": {},
   "outputs": [],
   "source": [
    "## user key is ksh_test\n",
    "client = dataikuapi.DSSClient(dataikuURL, dataikuKey)"
   ]
  },
  {
   "cell_type": "code",
   "execution_count": 3,
   "id": "bbc0fdb0-5d75-4a9c-99cc-471c96bf2f17",
   "metadata": {},
   "outputs": [],
   "source": [
    "project_keys = client.list_project_keys()\n",
    "project = client.get_project('DATABASE_TEST')"
   ]
  },
  {
   "cell_type": "code",
   "execution_count": 4,
   "id": "efaf0bc8-2ae4-4e5a-be43-7e64f8cc489a",
   "metadata": {},
   "outputs": [],
   "source": [
    "flowclient = flw.DSSProjectFlow(client, project)\n",
    "test = flowclient.generate_documentation()"
   ]
  },
  {
   "cell_type": "code",
   "execution_count": 5,
   "id": "45eb376b-a584-42d1-a4e8-f71cd180286f",
   "metadata": {},
   "outputs": [],
   "source": [
    "result = test.wait_for_result()\n",
    "exid = result['exportId']"
   ]
  },
  {
   "cell_type": "code",
   "execution_count": 6,
   "id": "e25fd732-2ba7-4ebc-aafa-03d25ec52e7d",
   "metadata": {},
   "outputs": [],
   "source": [
    "flowclient.download_documentation_to_file(exid, savePath + 'test.docx')"
   ]
  },
  {
   "cell_type": "markdown",
   "id": "5b8c66af-7600-4289-a1b1-e5346d09ba4b",
   "metadata": {},
   "source": [
    "## WIKI Export"
   ]
  },
  {
   "cell_type": "code",
   "execution_count": 1,
   "id": "cad234fb-1617-4ce1-b282-8a68b47d464c",
   "metadata": {},
   "outputs": [],
   "source": [
    "import dataikuapi\n",
    "import random\n",
    "import matplotlib.pyplot as plt\n",
    "from dataikuapi.dss import wiki as wk"
   ]
  },
  {
   "cell_type": "code",
   "execution_count": 2,
   "id": "66b2b90d-2165-4519-9632-b00590d6cd2d",
   "metadata": {},
   "outputs": [],
   "source": [
    "## user key is ksh_test\n",
    "client = dataikuapi.DSSClient(dataikuURL, dataikuKey)"
   ]
  },
  {
   "cell_type": "code",
   "execution_count": 3,
   "id": "eb9ac340-2ff0-4819-9c2c-be17746a60ee",
   "metadata": {},
   "outputs": [],
   "source": [
    "project_keys = client.list_project_keys()\n",
    "project = client.get_project('DATABASE_TEST')"
   ]
  },
  {
   "cell_type": "code",
   "execution_count": 4,
   "id": "357f812c-21a1-4b0e-b6ad-a191444e083b",
   "metadata": {},
   "outputs": [],
   "source": [
    "wwkk = project.get_wiki()\n",
    "article = wwkk.get_article(\"kimtest\")"
   ]
  },
  {
   "cell_type": "code",
   "execution_count": 5,
   "id": "f73a4afc-e005-4f48-93d8-09ad9ed99dfe",
   "metadata": {},
   "outputs": [],
   "source": [
    "article.export_to_file(savePath + 'test.pdf', paper_size = 'A4')"
   ]
  },
  {
   "cell_type": "code",
   "execution_count": null,
   "id": "b991d992-8423-4670-ae74-5b1cda5987d7",
   "metadata": {},
   "outputs": [],
   "source": []
  },
  {
   "cell_type": "code",
   "execution_count": null,
   "id": "fb646bf3-5dad-4649-aa72-c9a45b595c19",
   "metadata": {},
   "outputs": [],
   "source": []
  }
 ],
 "metadata": {
  "kernelspec": {
   "display_name": "penta",
   "language": "python",
   "name": "penta"
  },
  "language_info": {
   "codemirror_mode": {
    "name": "ipython",
    "version": 3
   },
   "file_extension": ".py",
   "mimetype": "text/x-python",
   "name": "python",
   "nbconvert_exporter": "python",
   "pygments_lexer": "ipython3",
   "version": "3.7.13"
  }
 },
 "nbformat": 4,
 "nbformat_minor": 5
}
