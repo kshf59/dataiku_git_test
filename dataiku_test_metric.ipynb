{
 "cells": [
  {
   "cell_type": "markdown",
   "id": "9323aa8d-11dc-4772-b0a0-8d9a15e356d8",
   "metadata": {},
   "source": [
    "## Metric Export"
   ]
  },
  {
   "cell_type": "code",
   "execution_count": 1,
   "id": "cf3b7bca-68f8-4958-9617-848dd163d137",
   "metadata": {},
   "outputs": [],
   "source": [
    "import dataikuapi\n",
    "import random\n",
    "import matplotlib.pyplot as plt\n",
    "from dataikuapi.dss import flow as flw\n",
    "from dataikuapi.dss.metrics import ComputedMetrics as cpmr"
   ]
  },
  {
   "cell_type": "markdown",
   "id": "f083e12c-6fcf-420b-82f1-f1cff8959c83",
   "metadata": {},
   "source": [
    "#### 프로젝트 연결"
   ]
  },
  {
   "cell_type": "code",
   "execution_count": null,
   "id": "fe5970f3-ff09-4346-a28c-5ee652ec6fb6",
   "metadata": {},
   "outputs": [],
   "source": [
    "dataikuURL = 'ip_port'\n",
    "dataikuKey = 'keys'\n",
    "savePath= 'path'"
   ]
  },
  {
   "cell_type": "code",
   "execution_count": 2,
   "id": "07656fa7-99f9-4333-81f8-7cb32ec99d1f",
   "metadata": {},
   "outputs": [],
   "source": [
    "client = dataikuapi.DSSClient(dataikuURL, dataikuKey)"
   ]
  },
  {
   "cell_type": "code",
   "execution_count": 3,
   "id": "bbc0fdb0-5d75-4a9c-99cc-471c96bf2f17",
   "metadata": {},
   "outputs": [],
   "source": [
    "project_keys = client.list_project_keys()\n",
    "project = client.get_project('DKU_CUSTOMER_LIFETIME_VALUE')"
   ]
  },
  {
   "cell_type": "markdown",
   "id": "a966517e-b549-48f9-8b20-cf57fbdead6c",
   "metadata": {},
   "source": [
    "#### 프로젝트 리스트 확인"
   ]
  },
  {
   "cell_type": "code",
   "execution_count": 4,
   "id": "55c70f41-d1ad-42c8-9882-d4b2d4391d52",
   "metadata": {},
   "outputs": [
    {
     "name": "stdout",
     "output_type": "stream",
     "text": [
      "Name: country_gdp\n",
      "Name: crm_last_year\n",
      "Name: crm_prepared\n",
      "Name: new_customers\n",
      "Name: new_customers_prepared\n",
      "Name: new_customers_scored\n",
      "Name: new_customers_scored_metrics\n",
      "Name: web_last_year\n",
      "Name: web_new_visitors\n"
     ]
    }
   ],
   "source": [
    "datasets = project.list_datasets()\n",
    "for dataset in datasets:\n",
    "        # Quick access to main information in the dataset list item\n",
    "        print(\"Name: %s\" % dataset.name)"
   ]
  },
  {
   "cell_type": "markdown",
   "id": "f9fe3bd3-7cc5-4f97-9682-a0bd168130dd",
   "metadata": {},
   "source": [
    "#### 데이터셋 연결"
   ]
  },
  {
   "cell_type": "code",
   "execution_count": 5,
   "id": "afd505a7-80bb-40ef-8995-ca592be72eed",
   "metadata": {},
   "outputs": [],
   "source": [
    "dataset = project.get_dataset('new_customers_scored')"
   ]
  },
  {
   "cell_type": "code",
   "execution_count": 7,
   "id": "28a33519-e9b1-4d59-b8ea-011593510e0b",
   "metadata": {},
   "outputs": [],
   "source": [
    "metrics = dataset.get_last_metric_values()"
   ]
  },
  {
   "cell_type": "markdown",
   "id": "e7ea4b0a-c5bc-4dfd-b5d0-e82e2f281380",
   "metadata": {},
   "source": [
    "#### 메트릭 확인"
   ]
  },
  {
   "cell_type": "code",
   "execution_count": 8,
   "id": "5604c64e-044e-47eb-a0f3-d192e1af1164",
   "metadata": {},
   "outputs": [
    {
     "name": "stdout",
     "output_type": "stream",
     "text": [
      "['reporting:METRICS_COMPUTATION_DURATION', 'records:COUNT_RECORDS']\n"
     ]
    }
   ],
   "source": [
    "print(metrics.get_all_ids())"
   ]
  },
  {
   "cell_type": "code",
   "execution_count": 10,
   "id": "91cb88e6-f0c6-4ef1-93be-1204ef2ee433",
   "metadata": {},
   "outputs": [
    {
     "name": "stdout",
     "output_type": "stream",
     "text": [
      "record count = 4600\n",
      "reporting:METRICS_COMPUTATION_DURATION = 3\n"
     ]
    }
   ],
   "source": [
    "print(\"record count = %s\" % metrics.get_global_value('records:COUNT_RECORDS'))\n",
    "print(\"reporting:METRICS_COMPUTATION_DURATION = %s\" % metrics.get_global_value('reporting:METRICS_COMPUTATION_DURATION'))"
   ]
  },
  {
   "cell_type": "markdown",
   "id": "af720ef4-d9e7-4f57-a99a-8a3e55c3e011",
   "metadata": {},
   "source": [
    "#### 프로젝트 데이터셋 확인"
   ]
  },
  {
   "cell_type": "code",
   "execution_count": null,
   "id": "9cf21863-2be6-464c-b959-9d2c1d6fe22a",
   "metadata": {},
   "outputs": [],
   "source": [
    "# Quick access to main information in the dataset list item\n",
    "print(\"Name: %s\" % datasets[0].name)\n",
    "print(\"Type: %s\" % datasets[0].type)\n",
    "print(\"Connection: %s\" % datasets[0].connection)\n",
    "print(\"Tags: %s\" % datasets[0].tags) # Returns a list of strings\n",
    "print(\"Raw: %s\" % datasets[0])"
   ]
  }
 ],
 "metadata": {
  "kernelspec": {
   "display_name": "penta",
   "language": "python",
   "name": "penta"
  },
  "language_info": {
   "codemirror_mode": {
    "name": "ipython",
    "version": 3
   },
   "file_extension": ".py",
   "mimetype": "text/x-python",
   "name": "python",
   "nbconvert_exporter": "python",
   "pygments_lexer": "ipython3",
   "version": "3.7.13"
  }
 },
 "nbformat": 4,
 "nbformat_minor": 5
}
